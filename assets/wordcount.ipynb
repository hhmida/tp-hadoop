{
 "cells": [
  {
   "cell_type": "markdown",
   "id": "7c754293",
   "metadata": {},
   "source": [
    "## Préparer le fichier texte"
   ]
  },
  {
   "cell_type": "markdown",
   "id": "1df39f06",
   "metadata": {},
   "source": [
    "### Télécharger le fichier shakespeare.txt"
   ]
  },
  {
   "cell_type": "code",
   "execution_count": null,
   "id": "08bef8fa",
   "metadata": {},
   "outputs": [],
   "source": [
    "! wget https://hhmida.github.io/tp-hadoop/assets/shakespeare.txt"
   ]
  },
  {
   "cell_type": "markdown",
   "id": "f9fed492",
   "metadata": {},
   "source": [
    "### Mettre le fichier sous HDFS"
   ]
  },
  {
   "cell_type": "code",
   "execution_count": null,
   "id": "2a294cb1",
   "metadata": {},
   "outputs": [],
   "source": [
    "! hadoop fs -put shakespeare.txt"
   ]
  },
  {
   "cell_type": "markdown",
   "id": "33b95805",
   "metadata": {},
   "source": [
    "## Créer le fichier wordcount.py\n",
    "\n",
    "**%%file** indique à Jupyter de sauvegarder le contenu de la cellule dans un fichier"
   ]
  },
  {
   "cell_type": "code",
   "execution_count": null,
   "id": "1f1be5ea",
   "metadata": {},
   "outputs": [],
   "source": [
    "%%file wordcount.py\n",
    "from mrjob.step import MRStep\n",
    "from mrjob.job import MRJob\n",
    "class WordCount(MRJob):\n",
    "    def steps(self):\n",
    "        return [MRStep(mapper=self.mapper_get_words, reducer=self.reducer_count_words)]\n",
    "    def mapper_get_words(self, _, line):\n",
    "        for word in line.split():\n",
    "            yield word, 1\n",
    "    def reducer_count_words(self, key, values):\n",
    "        yield key, sum(values)\n",
    "if __name__ == '__main__':\n",
    "    WordCount.run()"
   ]
  },
  {
   "cell_type": "markdown",
   "id": "bb90deb7",
   "metadata": {},
   "source": [
    "## Test en local"
   ]
  },
  {
   "cell_type": "code",
   "execution_count": null,
   "id": "b43ce664",
   "metadata": {},
   "outputs": [],
   "source": [
    "! python3 wordcount.py shakespeare.txt"
   ]
  },
  {
   "cell_type": "markdown",
   "id": "896b0d34",
   "metadata": {},
   "source": [
    "## Exécuter sur Hadoop"
   ]
  },
  {
   "cell_type": "code",
   "execution_count": null,
   "id": "bbc43f03",
   "metadata": {},
   "outputs": [],
   "source": [
    "! python3 wordcount.py -r hadoop hdfs:///user/uti/shakespeare.txt"
   ]
  }
 ],
 "metadata": {
  "kernelspec": {
   "display_name": "Python 3 (ipykernel)",
   "language": "python",
   "name": "python3"
  },
  "language_info": {
   "codemirror_mode": {
    "name": "ipython",
    "version": 3
   },
   "file_extension": ".py",
   "mimetype": "text/x-python",
   "name": "python",
   "nbconvert_exporter": "python",
   "pygments_lexer": "ipython3",
   "version": "3.10.12"
  },
  "toc": {
   "base_numbering": 1,
   "nav_menu": {},
   "number_sections": true,
   "sideBar": true,
   "skip_h1_title": false,
   "title_cell": "Table of Contents",
   "title_sidebar": "Contents",
   "toc_cell": false,
   "toc_position": {},
   "toc_section_display": true,
   "toc_window_display": false
  },
  "varInspector": {
   "cols": {
    "lenName": 16,
    "lenType": 16,
    "lenVar": 40
   },
   "kernels_config": {
    "python": {
     "delete_cmd_postfix": "",
     "delete_cmd_prefix": "del ",
     "library": "var_list.py",
     "varRefreshCmd": "print(var_dic_list())"
    },
    "r": {
     "delete_cmd_postfix": ") ",
     "delete_cmd_prefix": "rm(",
     "library": "var_list.r",
     "varRefreshCmd": "cat(var_dic_list()) "
    }
   },
   "types_to_exclude": [
    "module",
    "function",
    "builtin_function_or_method",
    "instance",
    "_Feature"
   ],
   "window_display": false
  }
 },
 "nbformat": 4,
 "nbformat_minor": 5
}
